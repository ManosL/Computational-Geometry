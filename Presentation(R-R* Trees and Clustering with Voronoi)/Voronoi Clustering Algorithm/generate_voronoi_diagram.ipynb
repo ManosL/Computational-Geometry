{
 "cells": [
  {
   "cell_type": "code",
   "execution_count": 4,
   "metadata": {},
   "outputs": [],
   "source": [
    "from PIL import Image\n",
    "import random\n",
    "import math\n",
    " \n",
    "def generate_voronoi_diagram(width, height, num_cells):\n",
    "    image = Image.new(\"RGB\", (width, height))\n",
    "    putpixel = image.putpixel\n",
    "    imgx, imgy = image.size\n",
    "    nx = []\n",
    "    ny = []\n",
    "    nr = []\n",
    "    ng = []\n",
    "    nb = []\n",
    "    for i in range(num_cells):\n",
    "        nx.append(random.randrange(imgx))\n",
    "        ny.append(random.randrange(imgy))\n",
    "        nr.append(random.randrange(256))\n",
    "        ng.append(random.randrange(256))\n",
    "        nb.append(random.randrange(256))\n",
    "    for y in range(imgy):\n",
    "        for x in range(imgx):\n",
    "            dmin = math.hypot(imgx-1, imgy-1)\n",
    "            j = -1\n",
    "            for i in range(num_cells):\n",
    "                d = math.hypot(nx[i]-x, ny[i]-y)\n",
    "                if d < dmin:\n",
    "                    dmin = d\n",
    "                    j = i\n",
    "            if x == nx[j] and y == ny[j]:\n",
    "                putpixel((nx[j], ny[j]), (256, 256, 256))\n",
    "            else:\n",
    "                putpixel((x, y), (nr[j], ng[j], nb[j]))\n",
    "    image.save(\"Voronoi.png\", \"PNG\")\n",
    "    image.show()\n",
    " \n",
    "generate_voronoi_diagram(500, 500, 5)"
   ]
  },
  {
   "cell_type": "code",
   "execution_count": null,
   "metadata": {},
   "outputs": [],
   "source": []
  }
 ],
 "metadata": {
  "kernelspec": {
   "display_name": "Python 3",
   "language": "python",
   "name": "python3"
  },
  "language_info": {
   "codemirror_mode": {
    "name": "ipython",
    "version": 3
   },
   "file_extension": ".py",
   "mimetype": "text/x-python",
   "name": "python",
   "nbconvert_exporter": "python",
   "pygments_lexer": "ipython3",
   "version": "3.6.9"
  }
 },
 "nbformat": 4,
 "nbformat_minor": 2
}
