{
 "cells": [
  {
   "cell_type": "markdown",
   "metadata": {},
   "source": [
    "<h1 style=\"text-align:center\"> Computational Geometry </h1>\n",
    "<h1 style=\"text-align:center\"> Project 2 </h1>\n",
    "<h2 style=\"text-align:center\"> Spring 2019-20 </h2>\n",
    "\n",
    "<h3>Participants</h3>\n",
    "\n",
    "The current projects was written by the following:\n",
    "\n",
    "<ul>\n",
    "    <li>Lekkas Nikolaos - 1115201600089</li>\n",
    "    <li>Lykos Emmanouil - 1115201600096</li>\n",
    "</ul>"
   ]
  },
  {
   "cell_type": "code",
   "execution_count": 1,
   "metadata": {},
   "outputs": [],
   "source": [
    "import numpy as np\n",
    "import pandas as pd\n",
    "import matplotlib.pyplot as plt\n",
    "from sklearn.neighbors import KNeighborsClassifier"
   ]
  },
  {
   "cell_type": "markdown",
   "metadata": {},
   "source": [
    "<h3>Exercise 1</h3>\n",
    "\n",
    "<i>Implement from scratch the k-NN algorithm in python programming language.Present your method and how you worked, conclude by discussing the disadvantages of the k-NN algorithm, if any.</i>"
   ]
  },
  {
   "cell_type": "markdown",
   "metadata": {},
   "source": [
    "\n",
    "Now for the k-NN algorithm:\n",
    "\n",
    "1) In the training part, we just save the data which will be used for deciding test data.\n",
    "\n",
    "2) In the testing/classification part, k-NN computes and sorts the distances from every point of the training data set (in our algorithm with the help of the euclidean distance) and decides the k points closer to our test point.\n",
    "\n",
    "3) Now that we have the points that are neighbors to our point we need to choose the category with which our point will be classified. To do that we find the most common category found or the average value.\n",
    "\n",
    "Comments:\n",
    "The value of k, the number of neighbors, is important for the decision of the classification. For example if the k is very small we may have a fault result because of a leftalone point in the training dataset.\n",
    "On the other side if the k is very big and we have few data we may find some few close neighbors and the many neighbors that are very far away. \n",
    "In this situation unfortunately the algorithm will choose the category based by the neighbors that are far away because they are more than the ones closer to our point.\n",
    "We need to find a value for k which is going to give us decent classification. \n",
    "It plays one of the main roles in the results of the classification and so it is something that should be taken seriously as a parameter in our model.\n",
    "\n",
    "Advantages:\n",
    "k-NN is a very simple classifier that works well classifying testing data from training data.\n",
    "\n",
    "Disadvantages:\n",
    "The main disadvantage of the KNN is that it does not learn anything from the training data. It simply uses the training data itself for classification. To predict the label/category of a test case k-NN will find the k closest neighbors/points from the training data. The most common label among the k closest neighboring points will be the classification label. The disadvantage in that is that we need to compute the distance and sort all the training data at each prediction, which can be slow if there are a large number of training examples. As we said the algorithm does not learn anything from the training data, which can result in the algorithm not generalizing well. This means that it won't predict well about points/test cases with not enough relative data.  Lastly, for some values of k the algorithm will not be robust to noisy data and may extract wrong infromation from them. Changing k can change the resulting predicted class label and so the decision of k plays a big role in the accuracy of the algorithm.\n"
   ]
  },
  {
   "cell_type": "code",
   "execution_count": 2,
   "metadata": {},
   "outputs": [],
   "source": [
    "#   Euclidean distance between two vectors\n",
    "def euclideanDistance(vector1, vector2):\n",
    "    distance = 0.0\n",
    "    length = len(vector1)\n",
    "    for i in range(length):\n",
    "        distance += np.square(vector1[i] - vector2[i])\n",
    "    return np.sqrt(distance)"
   ]
  },
  {
   "cell_type": "code",
   "execution_count": 3,
   "metadata": {},
   "outputs": [],
   "source": [
    "def mostFrequentItem(itemList): \n",
    "#     print (set(itemList))\n",
    "    return max(set(itemList), key = itemList.count)  ## max according counts of each item in the list "
   ]
  },
  {
   "cell_type": "code",
   "execution_count": 4,
   "metadata": {},
   "outputs": [],
   "source": [
    "def findKNearest(testData,trainData,k):\n",
    "    kNearest=[]\n",
    "    cnt=0\n",
    "    for row in trainData:\n",
    "        cnt+=1\n",
    "        distance = euclideanDistance(testData, row)\n",
    "        if cnt<=k:\n",
    "            newRow=np.append(row,[distance])\n",
    "#             print (newRow)\n",
    "            kNearest+=[newRow]\n",
    "#             print (kNearest)\n",
    "        else:\n",
    "            for item in  kNearest: # for each item in knearest list \n",
    "#                 print(item)\n",
    "                if item[-1]>distance: # if the new item has less distance than at least one in the list add it to the knearest list\n",
    "                    newRow=np.append(row,[distance])\n",
    "                    kNearest+=[newRow] #add to the set\n",
    "#                     print (kNearest)\n",
    "                    kNearest.sort(key=lambda x: x[-1]) # sort using the last column\n",
    "                    kNearest=kNearest[:k] # select k items from the sorted list\n",
    "#                   print (kNearest)\n",
    "                    break\n",
    "    return kNearest"
   ]
  },
  {
   "cell_type": "markdown",
   "metadata": {},
   "source": [
    "<h3>Exercise 2</h3>\n",
    "\n",
    "<i>Using the code provided at the class (or implementing your own) explain what is the curse of dimensionality and how is related to the $k$-NN algorithm.</i>\n",
    "\n",
    "The <b>Curse of Dimensionality</b> is the phenomenon where when we increase the dimensionality of the data(equally the number of features), the feature space exponentially grows and the data get more far away as we can verify from the results of the code below where we print at each line the dimension, the minimum distance, the mean distance and the minimum-average distance ration of 2 points."
   ]
  },
  {
   "cell_type": "code",
   "execution_count": 5,
   "metadata": {},
   "outputs": [
    {
     "name": "stdout",
     "output_type": "stream",
     "text": [
      "1 7.947421226228712e-06 0.3310009902894397 2.4010264196730013e-05\n",
      "6 0.18647467260473205 0.9677679968196345 0.1926853060005515\n",
      "11 0.315888574043911 1.3334395796543037 0.23689755341281052\n",
      "16 0.7209190490469604 1.6154152410436058 0.4462747600308794\n",
      "21 0.9694045860570238 1.8574960773724087 0.5218878240800011\n",
      "26 1.1698067560262715 2.063221470005646 0.5669807013122398\n",
      "31 1.2930748713962408 2.257299829279515 0.5728414340991487\n",
      "36 1.5123637311959328 2.43767091331656 0.6204134130387168\n",
      "41 1.5514668006745476 2.6039686964057926 0.5958085451703037\n",
      "46 1.6688006850159558 2.7567960531354916 0.6053406392242601\n",
      "51 2.0135369208019926 2.9029973365343897 0.6936061895274631\n",
      "56 2.1422705294432887 3.046195309569519 0.7032610557548358\n",
      "61 2.2891825062886793 3.178371787765626 0.7202374860928272\n",
      "66 2.3805561409678484 3.3055795715248357 0.7201630121006943\n",
      "71 2.428355816745725 3.4329484139337705 0.7073674066552909\n",
      "76 2.5356413086431617 3.5584750622227586 0.7125640237195604\n",
      "81 2.682272988673655 3.6698733685779983 0.7308897935388385\n",
      "86 2.8348947533212074 3.7796727721143326 0.7500370863415723\n",
      "91 3.015796748953059 3.888554628876586 0.7755572537306312\n",
      "96 2.976216447967502 3.991278273562552 0.7456800162698198\n",
      "101 3.094621147204947 4.096914799961689 0.7553540403705455\n",
      "106 3.3007963815713497 4.195195955170303 0.7868038625235934\n",
      "111 3.3800889704958648 4.2971895965470885 0.7865812979748114\n",
      "116 3.493608290391396 4.392285732481619 0.7953964070587742\n",
      "121 3.498954105666512 4.483068410459197 0.780481979151444\n",
      "126 3.565574727675625 4.580348303875886 0.7784505655734607\n",
      "131 3.66167913750708 4.6646915211879305 0.784977767741988\n",
      "136 3.90322139948153 4.756746424095699 0.8205653721017026\n",
      "141 3.868834668823462 4.840329440519748 0.799291601194821\n",
      "146 3.889507942408041 4.926463734472999 0.7895131583312295\n"
     ]
    }
   ],
   "source": [
    "import random\n",
    "\n",
    "def random_point(dim):\n",
    "    return [random.random() for _ in range(dim)]\n",
    "\n",
    "def random_distances(dim, num_pairs):\n",
    "    return [euclideanDistance(random_point(dim), random_point(dim))\n",
    "            for _ in range(num_pairs)]\n",
    "\n",
    "dimensions = range(1, 150, 5)\n",
    "\n",
    "avg_distances = []\n",
    "min_distances = []\n",
    "\n",
    "random.seed(0)\n",
    "\n",
    "for dim in dimensions:\n",
    "    distances = random_distances(dim, 10000)  # 10,000 random pairs\n",
    "    avg_distances.append(np.mean(distances))     # track the average\n",
    "    min_distances.append(min(distances))      # track the minimum\n",
    "    print(dim, min(distances), np.mean(distances), min(distances) / np.mean(distances))"
   ]
  },
  {
   "cell_type": "markdown",
   "metadata": {},
   "source": [
    "Therefore the feature space becomes more sparse which is detrimental generally to machine learning models because we need our data to be dense because if it is not we have much blank space that we do not know how it is classified. Specifically, to our $k$-NN model Curse of Dimensionality is detrimental because this kind of classifier assumes that two(or more) samples who are close one another belong to the same class, so if the samples are far away it is assumed that these samples may not belong in the same class. Furthermore, if provided a point that lies in the inner part of the space-that will probably be dense or blank-creates a problem because all the training samples will be far away from this point, thus the classifier might not perform well on that point and in all these kind of points because we do not give info about the \"neighborhood\" in the inner part of the space.\n",
    "\n",
    "In order to fix this problem we need either more data, either apply feature selection or dimensionality reduction algorithms in order to make the space more dense. But, we should tell that the task to provide more data is not so easy and the extra data might not be sufficient because we might either do not have more data and if we had we should have exponentatially more data because we showed in the class that the necessary number of samples is increased exponentatially with the number of dimensions.\n",
    "\n",
    "Further Info:<br>\n",
    "    <a href=https://towardsdatascience.com/k-nearest-neighbors-and-the-curse-of-dimensionality-e39d10a6105d>k-Nearest Neighbors and the Curse of Dimensionality</a>"
   ]
  },
  {
   "cell_type": "markdown",
   "metadata": {},
   "source": [
    "<h3>Exercise 3</h3>"
   ]
  },
  {
   "cell_type": "markdown",
   "metadata": {},
   "source": [
    "<i> 1. Suppose there is a set of points on a two-dimensional plane from two different classes.\n",
    "Points in class Red are (0, 1), (2, 3), (4, 4) and points in class Blue are (2, 0), (5, 2),\n",
    "(6, 3). Draw the k-nearest-neighbor decision boundary for k = 1 as we discussed in the\n",
    "lecture. Experiment yourself with two or more differrent distance metrics. Present your\n",
    "results. </i>\n",
    "\n",
    "In order to firstly think what the decision boundary can be for <b>k=1</b> for the given points we proceed to plot them."
   ]
  },
  {
   "cell_type": "code",
   "execution_count": 6,
   "metadata": {},
   "outputs": [
    {
     "data": {
      "image/png": "[encoded data removed]",
      "text/plain": [
       "<Figure size 432x288 with 1 Axes>"
      ]
     },
     "metadata": {
      "needs_background": "light"
     },
     "output_type": "display_data"
    }
   ],
   "source": [
    "red_points = [(0,1),(2,3),(4,4)]\n",
    "blue_points = [(2,0),(5,2),(6,3)]\n",
    "\n",
    "plt.scatter([p[0] for p in red_points],[p[1] for p in red_points], color='red')\n",
    "plt.scatter([p[0] for p in blue_points],[p[1] for p in blue_points], color='blue')\n",
    "\n",
    "plt.show()"
   ]
  },
  {
   "cell_type": "markdown",
   "metadata": {},
   "source": [
    "We know from class that if we have $p$ points and $p$ labels the decision boundary ,if distance metric is the euclidean, is the voronoi diagram of the points. In order to expand this in this case is the Voronoi diagram of the points but the neighboring cells with same color will be concatenated."
   ]
  },
  {
   "cell_type": "code",
   "execution_count": 7,
   "metadata": {},
   "outputs": [
    {
     "data": {
      "image/png": "[encoded data removed]",
      "text/plain": [
       "<Figure size 432x288 with 1 Axes>"
      ]
     },
     "metadata": {
      "needs_background": "light"
     },
     "output_type": "display_data"
    }
   ],
   "source": [
    "X = red_points + blue_points # list concatenate\n",
    "y = 3*['red'] + 3*['blue']   # passing the labels\n",
    "\n",
    "knn = KNeighborsClassifier(n_neighbors=1, p=2, metric='minkowski')\n",
    "knn.fit(X,y)\n",
    "\n",
    "test_points = [(i,j) for i in np.arange(0,20,0.05) for j in np.arange(0,20,0.05)]\n",
    "test_predictions = knn.predict(test_points)\n",
    "\n",
    "test_points = [(p, c) for p,c in zip(test_points,test_predictions)]\n",
    "\n",
    "plt.scatter([p[0][0] for p in test_points if p[1] == 'red'],[p[0][1] for p in test_points if p[1] == 'red'],\n",
    "           color = 'red')\n",
    "\n",
    "plt.scatter([p[0][0] for p in test_points if p[1] == 'blue'],[p[0][1] for p in test_points if p[1] == 'blue'],\n",
    "           color = 'blue')\n",
    "\n",
    "plt.scatter([p[0] for p in red_points], [p[1] for p in red_points], color='yellow',label='Red')\n",
    "plt.scatter([p[0] for p in blue_points], [p[1] for p in blue_points], color='green',label='Blue')\n",
    "\n",
    "plt.legend()\n",
    "plt.show()"
   ]
  },
  {
   "cell_type": "markdown",
   "metadata": {},
   "source": [
    "Therefore, as we observe in the above graph we made a right guess about the decision boundary, because each line is like splitting a pair of points in the middle and stops whenever intersects with another line. \n",
    "\n",
    "Now we will experiment with other distance metrics.\n",
    "\n",
    "<h5>Manhattan Distance</h5>\n",
    "\n",
    "The formula of Manhattan distance for two points $(x_1,y_1)$ and $(x_2,y_2)$ is $|x_2-x_1|+|y_2-y_1|$. \n",
    "\n",
    "The decision boundary is the following."
   ]
  },
  {
   "cell_type": "code",
   "execution_count": 8,
   "metadata": {},
   "outputs": [
    {
     "data": {
      "image/png": "[encoded data removed]",
      "text/plain": [
       "<Figure size 432x288 with 1 Axes>"
      ]
     },
     "metadata": {
      "needs_background": "light"
     },
     "output_type": "display_data"
    }
   ],
   "source": [
    "X = red_points + blue_points # list concatenate\n",
    "y = 3*['red'] + 3*['blue']   # passing the labels\n",
    "\n",
    "knn = KNeighborsClassifier(n_neighbors=1, metric='manhattan')\n",
    "knn.fit(X,y)\n",
    "\n",
    "test_points = [(i,j) for i in np.arange(0,20,0.05) for j in np.arange(0,20,0.05)]\n",
    "test_predictions = knn.predict(test_points)\n",
    "\n",
    "test_points = [(p, c) for p,c in zip(test_points,test_predictions)]\n",
    "\n",
    "plt.scatter([p[0][0] for p in test_points if p[1] == 'red'],[p[0][1] for p in test_points if p[1] == 'red'],\n",
    "           color = 'red')\n",
    "\n",
    "plt.scatter([p[0][0] for p in test_points if p[1] == 'blue'],[p[0][1] for p in test_points if p[1] == 'blue'],\n",
    "           color = 'blue')\n",
    "\n",
    "plt.scatter([p[0] for p in red_points], [p[1] for p in red_points], color='yellow',label='Red')\n",
    "plt.scatter([p[0] for p in blue_points], [p[1] for p in blue_points], color='green',label='Blue')\n",
    "\n",
    "plt.legend()\n",
    "\n",
    "plt.show()"
   ]
  },
  {
   "cell_type": "markdown",
   "metadata": {},
   "source": [
    "We can see that the decision boundary before the final line is almost the same as the one with Euclidean Distance."
   ]
  },
  {
   "cell_type": "markdown",
   "metadata": {},
   "source": [
    "<h5>Chebyshev Distance</h5>\n",
    "\n",
    "The formula of Chebyshev distance for two points $(x_1,y_1)$ and $(x_2,y_2)$ is $max(|x_2-x_1|,|y_2-y_1|)$. \n",
    "\n",
    "The decision boundary is the following."
   ]
  },
  {
   "cell_type": "code",
   "execution_count": 9,
   "metadata": {},
   "outputs": [
    {
     "data": {
      "image/png": "[encoded data removed]",
      "text/plain": [
       "<Figure size 432x288 with 1 Axes>"
      ]
     },
     "metadata": {
      "needs_background": "light"
     },
     "output_type": "display_data"
    }
   ],
   "source": [
    "X = red_points + blue_points # list concatenate\n",
    "y = 3*['red'] + 3*['blue']   # passing the labels\n",
    "\n",
    "knn = KNeighborsClassifier(n_neighbors=1,metric='chebyshev')\n",
    "knn.fit(X,y)\n",
    "\n",
    "test_points = [(i,j) for i in np.arange(0,20,0.05) for j in np.arange(0,20,0.05)]\n",
    "test_predictions = knn.predict(test_points)\n",
    "\n",
    "test_points = [(p, c) for p,c in zip(test_points,test_predictions)]\n",
    "\n",
    "plt.scatter([p[0][0] for p in test_points if p[1] == 'red'],[p[0][1] for p in test_points if p[1] == 'red'],\n",
    "           color = 'red')\n",
    "\n",
    "plt.scatter([p[0][0] for p in test_points if p[1] == 'blue'],[p[0][1] for p in test_points if p[1] == 'blue'],\n",
    "           color = 'blue')\n",
    "\n",
    "plt.scatter([p[0] for p in red_points], [p[1] for p in red_points], color='yellow',label='Red')\n",
    "plt.scatter([p[0] for p in blue_points], [p[1] for p in blue_points], color='green',label='Blue')\n",
    "\n",
    "plt.legend()\n",
    "\n",
    "plt.show()"
   ]
  },
  {
   "cell_type": "markdown",
   "metadata": {},
   "source": [
    "<i>2) If the y-coordinate of each point was multiplied by 5, what would happen to the k =\n",
    "1 boundary? Draw a new picture. Explain whether this effect might cause problems in\n",
    "practice.</i>\n",
    "\n",
    "In order to determine how the decision boundary will be affected firstly we need to plot the points."
   ]
  },
  {
   "cell_type": "code",
   "execution_count": 10,
   "metadata": {},
   "outputs": [
    {
     "data": {
      "image/png": "[encoded data removed]",
      "text/plain": [
       "<Figure size 432x288 with 1 Axes>"
      ]
     },
     "metadata": {
      "needs_background": "light"
     },
     "output_type": "display_data"
    }
   ],
   "source": [
    "new_red_points = [(p[0],5*p[1]) for p in red_points]\n",
    "new_blue_points = [(p[0],5*p[1]) for p in blue_points]\n",
    "\n",
    "plt.scatter([p[0] for p in red_points],[p[1] for p in red_points], color='red')\n",
    "plt.scatter([p[0] for p in blue_points],[p[1] for p in blue_points], color='blue')\n",
    "\n",
    "plt.show()"
   ]
  },
  {
   "cell_type": "markdown",
   "metadata": {},
   "source": [
    "Firstly, we will plot the new boundary."
   ]
  },
  {
   "cell_type": "code",
   "execution_count": 11,
   "metadata": {},
   "outputs": [
    {
     "data": {
      "image/png": "[encoded data removed]",
      "text/plain": [
       "<Figure size 432x288 with 1 Axes>"
      ]
     },
     "metadata": {
      "needs_background": "light"
     },
     "output_type": "display_data"
    }
   ],
   "source": [
    "X = new_red_points + new_blue_points # list concatenate\n",
    "y = 3*['red'] + 3*['blue']   # passing the labels\n",
    "\n",
    "knn = KNeighborsClassifier(n_neighbors=1, metric='euclidean')\n",
    "knn.fit(X,y)\n",
    "\n",
    "test_points = [(i,j) for i in np.arange(0,20,0.05) for j in np.arange(0,20,0.05)]\n",
    "test_predictions = knn.predict(test_points)\n",
    "\n",
    "test_points = [(p, c) for p,c in zip(test_points,test_predictions)]\n",
    "\n",
    "plt.scatter([p[0][0] for p in test_points if p[1] == 'red'],[p[0][1] for p in test_points if p[1] == 'red'],\n",
    "           color = 'red')\n",
    "\n",
    "plt.scatter([p[0][0] for p in test_points if p[1] == 'blue'],[p[0][1] for p in test_points if p[1] == 'blue'],\n",
    "           color = 'blue')\n",
    "\n",
    "plt.scatter([p[0] for p in red_points], [p[1] for p in new_red_points], color='yellow',label='Red')\n",
    "plt.scatter([p[0] for p in blue_points], [p[1] for p in new_blue_points], color='green',label='Blue')\n",
    "\n",
    "plt.legend()\n",
    "\n",
    "plt.show()"
   ]
  },
  {
   "cell_type": "markdown",
   "metadata": {},
   "source": [
    "Comparing it with the boundary without multiplying the y-coordinates by 5 we observe that the <b>blue</b> region is bigger than before. \n",
    "\n",
    "If only the y-coordinate of the training points was multiplied by 5 then it is obvious that because the decision boundary is different, many testing points will be misclassified, therefore our model will not be very accurate. If even the y-coordinate of the testing points will get multiplied by 5 we will still have more points misclassified because we can see from the previous boundary that along x axis there were points in the red region with $y=0$, but now all the points with $y=0$ and $x \\geq 0$ will be classified as blue because $5*0 = 0$, therefore these testing points will not moved to the red region, thus they will be misclassified.\n",
    "\n",
    "<i>3)Can you draw the decision boundary for k=3?</i>\n",
    "\n",
    "For this question we thought the following:\n",
    "\n",
    "<ol>\n",
    "    <li>Firstly, we thought to draw the Voronoi diagram of the training points and for each point we check what is its 2 nearest neighbors(because the current point is one neighbor) and the majority of the neighboring points will draw the cell in that colow, but this way did not work  because the last red point will not miscassfied and even of it does it will take its whole voronoi cell but that's not the case because this point is on the boundary.</li>\n",
    "    <li>Secondly, we thought to draw the largest empty circle of each training point and we draw each circle to the color of its center point and in the parts that were overlapping two or more cirles, for this part we would cast a vote on how to draw it. Unfortunately, this was very complicated and, furthermore when we tried to draw it there wasn't drawn the boundary at $x\\in[2,4]$ like that. Furthermore, we wouldn't knew how to resolve ties.</li>\n",
    "    <li>Lastly, we thought to do the same as the second suggestion but the centers would be the vertices of the voronoi cells, but we encountered the same problems as before.</li>\n",
    "</ol>\n",
    "\n",
    "Thus, we run this code to produce the decision boundary of 3-NN."
   ]
  },
  {
   "cell_type": "code",
   "execution_count": 12,
   "metadata": {},
   "outputs": [
    {
     "data": {
      "image/png": "[encoded data removed]",
      "text/plain": [
       "<Figure size 432x288 with 1 Axes>"
      ]
     },
     "metadata": {
      "needs_background": "light"
     },
     "output_type": "display_data"
    }
   ],
   "source": [
    "red_points = [(0,1),(2,3),(4,4)]\n",
    "blue_points = [(2,0),(5,2),(6,3)]\n",
    "\n",
    "X = red_points + blue_points # list concatenate\n",
    "y = 3*['red'] + 3*['blue']   # passing the labels\n",
    "\n",
    "knn = KNeighborsClassifier(n_neighbors=3, metric='euclidean')\n",
    "knn.fit(X,y)\n",
    "\n",
    "test_points = [(i,j) for i in np.arange(0,10,0.05) for j in np.arange(0,10,0.05)]\n",
    "test_predictions = knn.predict(test_points)\n",
    "\n",
    "test_points = [(p, c) for p,c in zip(test_points,test_predictions)]\n",
    "\n",
    "plt.scatter([p[0][0] for p in test_points if p[1] == 'red'],[p[0][1] for p in test_points if p[1] == 'red'],\n",
    "           color = 'red')\n",
    "\n",
    "plt.scatter([p[0][0] for p in test_points if p[1] == 'blue'],[p[0][1] for p in test_points if p[1] == 'blue'],\n",
    "           color = 'blue')\n",
    "\n",
    "plt.scatter([p[0] for p in red_points], [p[1] for p in red_points], color='yellow',label='Red')\n",
    "plt.scatter([p[0] for p in blue_points], [p[1] for p in blue_points], color='green',label='Blue')\n",
    "\n",
    "plt.legend()\n",
    "\n",
    "plt.show()"
   ]
  },
  {
   "cell_type": "markdown",
   "metadata": {},
   "source": [
    "There we can see that the drawing is more complex, therefore we could not know what the boundary would be, so we run the script. But, comparing it with the decision boundary of $k=1$ we can clearly see that we have error in the training step(specifically 2 errors)."
   ]
  },
  {
   "cell_type": "markdown",
   "metadata": {},
   "source": [
    "<i>4) Suppose now we have a test point at (1, 2). How would it be classied under 3-NN? Given\n",
    "that you can modify the 3-NN decision boundary by adding points to the training set in\n",
    "the diagram, what is the minimum number of points that you need to add to change the\n",
    "classication at (1, 2)? Provide also the coordinates for these new points and justify your\n",
    "answer.</i>\n",
    "\n",
    "Firstly, note that we assume that the distance metric is the <b>Euclidean Distance</b>.\n",
    "\n",
    "If we do the calculations we can see that the 3 nearest neighbors of $(1,2)$ are the following:\n",
    "\n",
    "<ol>\n",
    "    <li>$(0,1)$ with distance 1 and its <b>Red</b></li>\n",
    "    <li>$(2,3)$ with distance $\\sqrt{2}$ and its <b>Red</b></li>\n",
    "    <li>$(2,0)$ with distance $\\sqrt{5}$ and its <b>Blue</b></li>\n",
    "</ol>\n",
    "\n",
    "So, it is obvious that the given point is <b>Red</b> and in order to revert the decision we should add at least 2 points in the training set, because if we add one in each case we will have 2 <b>Red</b> points. The two <b>Blue</b> points that we can add to the training set in order to point $(1,2)$ can be classified as <b>Blue</b> ,are the $(\\frac{1}{2},2)$ and $(\\frac{3}{2},2)$ which both have distance $\\frac{1}{2}$ from $(1,2)$ and they are <b>Blue</b>. So, the new 3 nearest neighbors are the following:\n",
    "\n",
    "<ol>\n",
    "    <li>$(\\frac{1}{2},2)$ with distance $\\frac{1}{2}$ and its <b>Blue</b></li>\n",
    "    <li>$(\\frac{3}{2},2)$ with distance $\\frac{1}{2}$ and its <b>Blue</b></li>\n",
    "    <li>$(0,1)$ with distance 1 and its <b>Red</b></li>\n",
    "</ol>\n",
    "\n",
    "Therefore, the new point is classified as <b>Blue</b>."
   ]
  },
  {
   "cell_type": "markdown",
   "metadata": {},
   "source": [
    "\n",
    "<h3>Exercise 4</h3>\n",
    "\n",
    "<i>How  long  does  it  take  for  $k$-NN  to  classify  one  point?   Or  in  other  words what is the testing complexity for one instance?  Assume your data has dimensionality $d$, you have $n$ training examples and use Euclidean distance.  Assume also that you use a quick select implementation which gives you the $k$ smallest elements of a list of length $m$ in $O(m)$.</i>\n",
    "\n",
    "The steps that we will take to classify one point are the following:\n",
    "\n",
    "<ol>\n",
    "    <li> Compute the distance of the given point with the points in the training set.</li>\n",
    "    <li> Run the quick-select algorithm in order to get the k-nearest neighbors of the given point.</li>\n",
    "    <li> Count the frequency of each label and select the most frequent one.</li>\n",
    "</ol>\n",
    "\n",
    "The number of computations at each step are the following:\n",
    "\n",
    "<ul>\n",
    "    <li> The first step takes $nd$ time because there are needed $d$ computations to find the Euclidean Distance and we have $n$ training samples.</li>\n",
    "    <li> The second step takes $O(n)$ time because the complexity of the algorithm is given and we have $n$ training samples.</li>\n",
    "    <li> The third step if he had a naive approach to first get the frequency of each label and after find the most frequent label takes $k+l$ where $l$ is the number of labels</li>\n",
    "</ul>\n",
    "\n",
    "Therefore, the total time complexity to classify 1 point via the $k$-NN classifier is $nd+O(n)+k+l=O(nd)$. "
   ]
  },
  {
   "cell_type": "markdown",
   "metadata": {},
   "source": [
    "# <h3>Exercise 5</h3>\n",
    "\n",
    "<i>To see an application of the $k$-NN algorithm in a real world classification problem consider the data found at <a href=https://www.kaggle.com/uciml/iris>https://www.kaggle.com/uciml/iris </a>.  Download from there the Iris.csv file.  Ignore the id column and consider the columns:  SepalLengthCm, SepalWidthCm, PetalLengthCm, PetalWidthCm as point coordinates in a four dimensional space.  Consider the column Species as the class/label column.  The file contains 150 rows.  Run the algorithm onthe first 100 rows and make predictions for the rest 50.  How your predictions are compared to the actual?  Explain your methodology."
   ]
  },
  {
   "cell_type": "markdown",
   "metadata": {},
   "source": [
    "First of we save the training dataset(Iris.csv). \n",
    "We save the columns 'SepalLengrhCm','SepalWidthCm', 'PetalLengthCm', 'PetalWidthCm', 'Species'.\n",
    "The last one is the classification label.\n",
    "\n",
    "We use the train_test_split in order to split our data to training and testing Data.\n",
    "For the testing Data we drop the Species column because the point of the algorithm is to predict the label from the training data.\n",
    "For both the training and the testing data we to_numpy in order to have our data in usable form.\n",
    "\n",
    "Note that we used the <b>randomized</b> splitting function train_test_split because in the dataset there are 3 labels, but the rows are grouped by label, therefore if we train our model with the first 100 rows then the training dataset will not have samples of the third label and all the samples of the testing dataset will have the third label.\n",
    "\n",
    "Now that we have the data ready we run the algorithm for every testing data case.\n",
    "The k-NN algorithm will take this testing data case and will compute it's distance with all the other training data points. This will be done with a metric, the euclidean distance. The first k distances with their rows(point's data) will be saved in the kNearest list. For every next row/point we again measure the distance and we check if it has less distance than at least one point/row in the kNearest list. If it does we insert the new point in the kNearest list, we sort the list by distance and then we keep the k points with the least current distance. This process will continue for all training data points.\n",
    "\n",
    "In this end of this process we have the k closer training points to our test data point based on these fields 'SepalLengrhCm','SepalWidthCm', 'PetalLengthCm', 'PetalWidthCm' and their euclidean distance. \n",
    "\n",
    "\n",
    "When we need classification, we find the k most similar points from the kNearest list.  \n",
    "From these k points we find the group name/label which is most commonly found. This group name will be the classified label."
   ]
  },
  {
   "cell_type": "code",
   "execution_count": 13,
   "metadata": {},
   "outputs": [
    {
     "name": "stdout",
     "output_type": "stream",
     "text": [
      "[7.2 3.  5.8 1.6]\n",
      "Iris-virginica\n",
      "\n",
      "[6.7 3.  5.  1.7]\n",
      "Iris-virginica\n",
      "\n",
      "[5.8 2.7 5.1 1.9]\n",
      "Iris-virginica\n",
      "\n",
      "[5.4 3.4 1.5 0.4]\n",
      "Iris-setosa\n",
      "\n",
      "[4.6 3.2 1.4 0.2]\n",
      "Iris-setosa\n",
      "\n",
      "[6.  2.2 4.  1. ]\n",
      "Iris-versicolor\n",
      "\n",
      "[6.1 2.8 4.  1.3]\n",
      "Iris-versicolor\n",
      "\n",
      "[6.2 3.4 5.4 2.3]\n",
      "Iris-virginica\n",
      "\n",
      "[6.4 2.8 5.6 2.1]\n",
      "Iris-virginica\n",
      "\n",
      "[5.6 2.7 4.2 1.3]\n",
      "Iris-versicolor\n",
      "\n",
      "[5.4 3.9 1.7 0.4]\n",
      "Iris-setosa\n",
      "\n",
      "[5.1 2.5 3.  1.1]\n",
      "Iris-versicolor\n",
      "\n",
      "[6.3 2.3 4.4 1.3]\n",
      "Iris-versicolor\n",
      "\n",
      "[6.5 3.  5.8 2.2]\n",
      "Iris-virginica\n",
      "\n",
      "[6.6 3.  4.4 1.4]\n",
      "Iris-versicolor\n",
      "\n",
      "[5.6 2.9 3.6 1.3]\n",
      "Iris-versicolor\n",
      "\n",
      "[6.5 3.2 5.1 2. ]\n",
      "Iris-virginica\n",
      "\n",
      "[5.  2.3 3.3 1. ]\n",
      "Iris-versicolor\n",
      "\n",
      "[5.9 3.  4.2 1.5]\n",
      "Iris-versicolor\n",
      "\n",
      "[6.2 2.9 4.3 1.3]\n",
      "Iris-versicolor\n",
      "\n",
      "[5.5 4.2 1.4 0.2]\n",
      "Iris-setosa\n",
      "\n",
      "[4.6 3.4 1.4 0.3]\n",
      "Iris-setosa\n",
      "\n",
      "[5.1 3.5 1.4 0.3]\n",
      "Iris-setosa\n",
      "\n",
      "[5.  3.5 1.3 0.3]\n",
      "Iris-setosa\n",
      "\n",
      "[5.1 3.7 1.5 0.4]\n",
      "Iris-setosa\n",
      "\n",
      "[6.4 3.1 5.5 1.8]\n",
      "Iris-virginica\n",
      "\n",
      "[5.7 2.6 3.5 1. ]\n",
      "Iris-versicolor\n",
      "\n",
      "[5.7 3.8 1.7 0.3]\n",
      "Iris-setosa\n",
      "\n",
      "[5.5 2.6 4.4 1.2]\n",
      "Iris-versicolor\n",
      "\n",
      "[6.7 3.1 4.7 1.5]\n",
      "Iris-versicolor\n",
      "\n",
      "[4.9 3.1 1.5 0.1]\n",
      "Iris-setosa\n",
      "\n",
      "[5.6 2.5 3.9 1.1]\n",
      "Iris-versicolor\n",
      "\n",
      "[4.8 3.  1.4 0.1]\n",
      "Iris-setosa\n",
      "\n",
      "[7.3 2.9 6.3 1.8]\n",
      "Iris-virginica\n",
      "\n",
      "[5.  3.2 1.2 0.2]\n",
      "Iris-setosa\n",
      "\n",
      "[5.7 2.8 4.1 1.3]\n",
      "Iris-versicolor\n",
      "\n",
      "[4.6 3.6 1.  0.2]\n",
      "Iris-setosa\n",
      "\n",
      "[6.9 3.1 5.1 2.3]\n",
      "Iris-virginica\n",
      "\n",
      "[7.9 3.8 6.4 2. ]\n",
      "Iris-virginica\n",
      "\n",
      "[6.5 3.  5.5 1.8]\n",
      "Iris-virginica\n",
      "\n",
      "[5.5 2.4 3.7 1. ]\n",
      "Iris-versicolor\n",
      "\n",
      "[6.3 3.3 4.7 1.6]\n",
      "Iris-versicolor\n",
      "\n",
      "[5.7 3.  4.2 1.2]\n",
      "Iris-versicolor\n",
      "\n",
      "[6.3 2.7 4.9 1.8]\n",
      "Iris-virginica\n",
      "\n",
      "[6.3 2.5 4.9 1.5]\n",
      "Iris-versicolor\n",
      "\n"
     ]
    }
   ],
   "source": [
    "from sklearn.model_selection import train_test_split\n",
    "\n",
    "dataFileName=\"Iris.csv\"\n",
    "irisData=pd.read_csv(dataFileName) ## read_csv return a dataframe\n",
    "irisData.head()\n",
    "\n",
    "myData=irisData[['SepalLengthCm','SepalWidthCm', 'PetalLengthCm', 'PetalWidthCm', 'Species']] ## pass in indexing operatior [] a list of columns ['SepalLengthCm','SepalWidthCm', 'PetalLengthCm', 'PetalWidthCm']\n",
    "\n",
    "trainSplit, testSplit = train_test_split(myData, test_size=0.3, shuffle='true')\n",
    "\n",
    "trainingDatanp=trainSplit.to_numpy() #take the first 100 rows for training data\n",
    "\n",
    "testingData=testSplit.drop(columns='Species') #take the last 50 rows without the classification column\n",
    "testingDatanp=testingData.to_numpy()\n",
    "\n",
    "k=30\n",
    "kNearest = []\n",
    "actual = list(testSplit['Species'])\n",
    "predicted = []\n",
    "\n",
    "#Classifying the test set samples\n",
    "for test in testingDatanp:\n",
    "    kNearest=findKNearest(test,trainingDatanp,k)\n",
    "    neighList=[]\n",
    "    for neighbor in kNearest:\n",
    "        neighList+=[neighbor[4]]\n",
    "    mfi = mostFrequentItem(neighList)\n",
    "    predicted += [mfi]\n",
    "    print(test)\n",
    "    print(mfi)\n",
    "    print()"
   ]
  },
  {
   "cell_type": "markdown",
   "metadata": {},
   "source": [
    "\n",
    "Performance Evaluation of our model"
   ]
  },
  {
   "cell_type": "markdown",
   "metadata": {},
   "source": [
    "As we can see our algorithm works pretty well and has perfect accuracy.\n",
    "With huge data though this algorithm could easily become slow and if it has noisy data it could create wrong results.\n",
    "With few data we may also not have correct results especially if k has a large value. This will happen because the most common label will be from neighbors who are far away from our test point."
   ]
  },
  {
   "cell_type": "code",
   "execution_count": 14,
   "metadata": {},
   "outputs": [
    {
     "name": "stdout",
     "output_type": "stream",
     "text": [
      "Confusion Matrix :\n",
      "[[13  0  0]\n",
      " [ 0 19  1]\n",
      " [ 0  0 12]]\n",
      "Accuracy Score : 0.9777777777777777\n",
      "Report : \n",
      "                 precision    recall  f1-score   support\n",
      "\n",
      "    Iris-setosa       1.00      1.00      1.00        13\n",
      "Iris-versicolor       1.00      0.95      0.97        20\n",
      " Iris-virginica       0.92      1.00      0.96        12\n",
      "\n",
      "       accuracy                           0.98        45\n",
      "      macro avg       0.97      0.98      0.98        45\n",
      "   weighted avg       0.98      0.98      0.98        45\n",
      "\n",
      "Iris-virginica Iris-virginica\n",
      "Iris-versicolor Iris-virginica\n",
      "Iris-virginica Iris-virginica\n",
      "Iris-setosa Iris-setosa\n",
      "Iris-setosa Iris-setosa\n",
      "Iris-versicolor Iris-versicolor\n",
      "Iris-versicolor Iris-versicolor\n",
      "Iris-virginica Iris-virginica\n",
      "Iris-virginica Iris-virginica\n",
      "Iris-versicolor Iris-versicolor\n",
      "Iris-setosa Iris-setosa\n",
      "Iris-versicolor Iris-versicolor\n",
      "Iris-versicolor Iris-versicolor\n",
      "Iris-virginica Iris-virginica\n",
      "Iris-versicolor Iris-versicolor\n",
      "Iris-versicolor Iris-versicolor\n",
      "Iris-virginica Iris-virginica\n",
      "Iris-versicolor Iris-versicolor\n",
      "Iris-versicolor Iris-versicolor\n",
      "Iris-versicolor Iris-versicolor\n",
      "Iris-setosa Iris-setosa\n",
      "Iris-setosa Iris-setosa\n",
      "Iris-setosa Iris-setosa\n",
      "Iris-setosa Iris-setosa\n",
      "Iris-setosa Iris-setosa\n",
      "Iris-virginica Iris-virginica\n",
      "Iris-versicolor Iris-versicolor\n",
      "Iris-setosa Iris-setosa\n",
      "Iris-versicolor Iris-versicolor\n",
      "Iris-versicolor Iris-versicolor\n",
      "Iris-setosa Iris-setosa\n",
      "Iris-versicolor Iris-versicolor\n",
      "Iris-setosa Iris-setosa\n",
      "Iris-virginica Iris-virginica\n",
      "Iris-setosa Iris-setosa\n",
      "Iris-versicolor Iris-versicolor\n",
      "Iris-setosa Iris-setosa\n",
      "Iris-virginica Iris-virginica\n",
      "Iris-virginica Iris-virginica\n",
      "Iris-virginica Iris-virginica\n",
      "Iris-versicolor Iris-versicolor\n",
      "Iris-versicolor Iris-versicolor\n",
      "Iris-versicolor Iris-versicolor\n",
      "Iris-virginica Iris-virginica\n",
      "Iris-versicolor Iris-versicolor\n"
     ]
    }
   ],
   "source": [
    "\n",
    "# Python script for confusion matrix creation. \n",
    "from sklearn.metrics import confusion_matrix \n",
    "from sklearn.metrics import accuracy_score \n",
    "from sklearn.metrics import classification_report \n",
    "\n",
    "results = confusion_matrix(actual, predicted) \n",
    "  \n",
    "print ('Confusion Matrix :')\n",
    "print(results) \n",
    "print ('Accuracy Score :',accuracy_score(actual, predicted)) \n",
    "print ('Report : ')\n",
    "print (classification_report(actual, predicted))\n",
    "\n",
    "for i in range(len(actual)):\n",
    "    print(actual[i], predicted[i])"
   ]
  }
 ],
 "metadata": {
  "kernelspec": {
   "display_name": "Python 3",
   "language": "python",
   "name": "python3"
  },
  "language_info": {
   "codemirror_mode": {
    "name": "ipython",
    "version": 3
   },
   "file_extension": ".py",
   "mimetype": "text/x-python",
   "name": "python",
   "nbconvert_exporter": "python",
   "pygments_lexer": "ipython3",
   "version": "3.7.4"
  }
 },
 "nbformat": 4,
 "nbformat_minor": 2
}
